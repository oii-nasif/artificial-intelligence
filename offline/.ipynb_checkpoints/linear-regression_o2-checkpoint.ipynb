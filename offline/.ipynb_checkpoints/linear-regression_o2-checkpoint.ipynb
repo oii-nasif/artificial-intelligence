{
 "cells": [
  {
   "cell_type": "code",
   "execution_count": 42,
   "metadata": {},
   "outputs": [],
   "source": [
    "import pandas as pd\n",
    "import numpy as np\n",
    "import matplotlib.pyplot as plt\n",
    "import seaborn as sns"
   ]
  },
  {
   "cell_type": "code",
   "execution_count": 43,
   "metadata": {},
   "outputs": [],
   "source": [
    "train_data = pd.read_csv('https://raw.githubusercontent.com/oii-nasif/artificial-intelligence/master/datasets/linear-regression-train_o2.csv')\n",
    "test_data = pd.read_csv('https://raw.githubusercontent.com/oii-nasif/artificial-intelligence/master/datasets/linear-regression-test_o2.csv')"
   ]
  },
  {
   "cell_type": "code",
   "execution_count": 44,
   "metadata": {},
   "outputs": [],
   "source": [
    "train_data = np.array(train_data)\n",
    "n = len(train_data)"
   ]
  },
  {
   "cell_type": "code",
   "execution_count": 45,
   "metadata": {},
   "outputs": [],
   "source": [
    "x_train = train_data[:, 0]\n",
    "y_train = train_data[:, 1]"
   ]
  },
  {
   "cell_type": "code",
   "execution_count": 46,
   "metadata": {},
   "outputs": [
    {
     "name": "stdout",
     "output_type": "stream",
     "text": [
      "50.276\n",
      "50.299640879633\n"
     ]
    }
   ],
   "source": [
    "x_train_mean = np.mean(x_train)\n",
    "y_train_mean = np.mean(y_train)\n",
    "print(x_train_mean)\n",
    "print(y_train_mean)"
   ]
  },
  {
   "cell_type": "code",
   "execution_count": 55,
   "metadata": {},
   "outputs": [],
   "source": [
    "Sumxy = 0\n",
    "Sumxx = 0\n",
    "for i in range(n):\n",
    "    Sumxy += y_train[i]*x_train[i]\n",
    "    Sumxx += x_train[i]**2\n",
    "SSxy = Sumxy - n*x_train_mean*y_train_mean\n",
    "SSxx = Sumxx - n*(x_train_mean**2)\n",
    "print(SSxy)\n",
    "print(SSxx)"
   ]
  },
  {
   "cell_type": "code",
   "execution_count": 58,
   "metadata": {},
   "outputs": [
    {
     "name": "stdout",
     "output_type": "stream",
     "text": [
      "1.0048368491845858\n",
      "-0.21953654997123806\n"
     ]
    }
   ],
   "source": [
    "beta_1 = SSxy/SSxx\n",
    "beta_0 = y_train_mean - beta_1*x_train_mean\n",
    "print(beta_1)\n",
    "print(beta_0)"
   ]
  },
  {
   "cell_type": "code",
   "execution_count": null,
   "metadata": {},
   "outputs": [],
   "source": []
  }
 ],
 "metadata": {
  "kernelspec": {
   "display_name": "Python 3",
   "language": "python",
   "name": "python3"
  },
  "language_info": {
   "codemirror_mode": {
    "name": "ipython",
    "version": 3
   },
   "file_extension": ".py",
   "mimetype": "text/x-python",
   "name": "python",
   "nbconvert_exporter": "python",
   "pygments_lexer": "ipython3",
   "version": "3.7.4"
  }
 },
 "nbformat": 4,
 "nbformat_minor": 2
}
